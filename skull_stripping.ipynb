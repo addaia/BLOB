{
 "cells": [
  {
   "cell_type": "code",
   "execution_count": 2,
   "metadata": {},
   "outputs": [],
   "source": [
    "import os\n",
    "from PIL import Image\n",
    "import shutil\n",
    "import numpy as np\n",
    "from tensorflow.keras.models import Model, Sequential\n",
    "from tensorflow.keras.layers import Input, Conv2D, MaxPooling2D, Dropout, Conv2DTranspose, concatenate, BatchNormalization, Activation, UpSampling2D, Flatten, Dense\n",
    "from tensorflow.keras.optimizers import Adam\n",
    "from tensorflow.keras.losses import binary_crossentropy\n",
    "from tensorflow.keras.utils import to_categorical\n",
    "from tensorflow.keras.preprocessing.image import ImageDataGenerator\n",
    "from sklearn.model_selection import train_test_split\n",
    "import matplotlib.pyplot as plt\n",
    "from scipy.ndimage import label, find_objects\n"
   ]
  },
  {
   "cell_type": "code",
   "execution_count": 3,
   "metadata": {},
   "outputs": [
    {
     "name": "stdout",
     "output_type": "stream",
     "text": [
      "Loaded 80 images and 80 masks.\n"
     ]
    }
   ],
   "source": [
    "# define where to find the images, base_dirs are those from the downloaded dataset, mask_dirs are those manually masked\n",
    "base_dirs = [\"./Training\", \"./Testing\"]\n",
    "mask_dirs = [\"./Mask_Training\", \"./Mask_Testing\"]\n",
    "categories = ['glioma_tumor', 'meningioma_tumor', 'no_tumor', 'pituitary_tumor']\n",
    "\n",
    "# define lists\n",
    "images = []\n",
    "masks = []\n",
    "\n",
    "# get images&masks and turn to np arrays\n",
    "for base_dir, mask_dir in zip(base_dirs, mask_dirs):\n",
    "    for category in categories:\n",
    "\n",
    "        # define path to current category and directory\n",
    "        img_category_path = os.path.join(base_dir, category)\n",
    "        mask_category_path = os.path.join(mask_dir, category)\n",
    "        \n",
    "        # find masks name\n",
    "        mask_files = set([os.path.splitext(f)[0] for f in os.listdir(mask_category_path)])\n",
    "\n",
    "        for img_name in os.listdir(img_category_path):\n",
    "            base_img_name = os.path.splitext(img_name)[0]  # remove extension from image name to check against mask\n",
    "\n",
    "            if base_img_name in mask_files: # if has corresponding mask, perform\n",
    "                 # construct mask path same as base path\n",
    "                img_path = os.path.join(img_category_path, img_name)\n",
    "                mask_name = base_img_name + '.png'\n",
    "                mask_path = os.path.join(mask_category_path, mask_name) \n",
    "                \n",
    "                # load and preprocess the image\n",
    "                img = Image.open(img_path).resize((128, 128)) # normalise to faciliatet training and testing\n",
    "                img = np.array(img)\n",
    "                \n",
    "                # load and preprocess the mask\n",
    "                mask = Image.open(mask_path).resize((128, 128))\n",
    "                mask = np.array(mask)\n",
    "\n",
    "                if len(mask.shape) == 3:  # convert RGB to grayscale to simplify\n",
    "                    mask = mask[:,:,0]\n",
    "                \n",
    "                mask = (mask > 0.5).astype(np.uint8) # convert to binary mask\n",
    "\n",
    "                # store\n",
    "                images.append(img)\n",
    "                masks.append(mask)\n",
    "\n",
    "# convert to array\n",
    "images = np.array(images)\n",
    "masks = np.array(masks)\n",
    "\n",
    "# currently should ¡print 80\n",
    "print(f\"Loaded {len(images)} images and {len(masks)} masks.\")"
   ]
  },
  {
   "cell_type": "code",
   "execution_count": 95,
   "metadata": {},
   "outputs": [
    {
     "data": {
      "text/plain": [
       "\"\\nplt.figure(figsize=(4, 4))\\n\\ncopy_mask = (masks > 0.5).astype(np.uint8) # convert to binary mask\\nplt.imshow(images[80], cmap='gray')\\n#plt.imshow(copy_mask[46], cmap='Purples', alpha=0.5)\\n\\nplt.axis('off')\\nplt.show()\\n\""
      ]
     },
     "execution_count": 95,
     "metadata": {},
     "output_type": "execute_result"
    }
   ],
   "source": [
    "# EXAMPLE - Plot and image against the manually mask\n",
    "\"\"\"\n",
    "plt.figure(figsize=(4, 4))\n",
    "\n",
    "copy_mask = (masks > 0.5).astype(np.uint8) # convert to binary mask\n",
    "plt.imshow(images[80], cmap='gray')\n",
    "#plt.imshow(copy_mask[46], cmap='Purples', alpha=0.5)\n",
    "\n",
    "plt.axis('off')\n",
    "plt.show()\n",
    "\"\"\"\n"
   ]
  },
  {
   "cell_type": "code",
   "execution_count": 4,
   "metadata": {},
   "outputs": [],
   "source": [
    "# define angles manually\n",
    "angles = np.array([1,1,0,1,1,1,1,3,3,1,2,2,1,1,1,1,1,1,1,1,3,3,1,1,2,1,1,1,1,0,3,3,3,3,3,3,3,3,3,3,2,0,3,1,3,1,1,3,1,2,2,3,1,1,3,3,3,1,3,3,1,1,1,1,0,2,1,3,1,1,0,2,2,2,0,0,2,2,2,2])"
   ]
  },
  {
   "cell_type": "code",
   "execution_count": 31,
   "metadata": {},
   "outputs": [
    {
     "name": "stdout",
     "output_type": "stream",
     "text": [
      "Epoch 1/10\n",
      "2/2 [==============================] - 1s 474ms/step - loss: 265.6045 - accuracy: 0.3750 - val_loss: 309.7887 - val_accuracy: 0.5000\n",
      "Epoch 2/10\n",
      "2/2 [==============================] - 0s 187ms/step - loss: 270.3131 - accuracy: 0.3958 - val_loss: 147.8478 - val_accuracy: 0.3125\n",
      "Epoch 3/10\n",
      "2/2 [==============================] - 0s 250ms/step - loss: 65.3753 - accuracy: 0.4583 - val_loss: 72.3329 - val_accuracy: 0.3750\n",
      "Epoch 4/10\n",
      "2/2 [==============================] - 0s 215ms/step - loss: 35.3105 - accuracy: 0.6042 - val_loss: 20.5755 - val_accuracy: 0.5625\n",
      "Epoch 5/10\n",
      "2/2 [==============================] - 0s 181ms/step - loss: 8.5193 - accuracy: 0.7083 - val_loss: 9.4425 - val_accuracy: 0.6250\n",
      "Epoch 6/10\n",
      "2/2 [==============================] - 0s 189ms/step - loss: 1.8703 - accuracy: 0.8958 - val_loss: 4.7149 - val_accuracy: 0.5000\n",
      "Epoch 7/10\n",
      "2/2 [==============================] - 0s 223ms/step - loss: 2.2998 - accuracy: 0.8333 - val_loss: 4.1721 - val_accuracy: 0.6875\n",
      "Epoch 8/10\n",
      "2/2 [==============================] - 0s 224ms/step - loss: 2.7070 - accuracy: 0.7500 - val_loss: 3.2356 - val_accuracy: 0.7500\n",
      "Epoch 9/10\n",
      "2/2 [==============================] - 0s 224ms/step - loss: 2.0558 - accuracy: 0.7500 - val_loss: 2.7003 - val_accuracy: 0.6875\n",
      "Epoch 10/10\n",
      "2/2 [==============================] - 0s 230ms/step - loss: 0.5993 - accuracy: 0.8958 - val_loss: 2.1907 - val_accuracy: 0.5625\n",
      "1/1 [==============================] - 0s 219ms/step - loss: 1.3915 - accuracy: 0.6250\n",
      "Test accuracy: 0.625\n"
     ]
    }
   ],
   "source": [
    "# define angles manually\n",
    "angles = np.array([1,1,0,1,1,1,1,3,3,1,2,2,1,1,1,1,1,1,1,1,3,3,1,1,2,1,1,1,1,0,3,3,3,3,3,3,3,3,3,3,2,0,3,1,3,1,1,3,1,2,2,3,1,1,3,3,3,1,3,3,1,1,1,1,0,2,1,3,1,1,0,2,2,2,0,0,2,2,2,2])\n",
    "\n",
    "# convert labels to one-hot encoding\n",
    "angles = to_categorical(angles, num_classes=4)\n",
    "\n",
    "# split data \n",
    "X_train_val, X_test, y_train_val, y_test = train_test_split(images, angles, test_size=0.2, random_state=42)\n",
    "\n",
    "# val split\n",
    "X_train, X_val, y_train, y_val = train_test_split(X_train_val, y_train_val, test_size=0.25, random_state=42)\n",
    "\n",
    "# data augmentation \n",
    "data_gen_train = ImageDataGenerator(\n",
    "    horizontal_flip=True,  #  horizontal flipping\n",
    ")\n",
    "\n",
    "# no augmentation for validation data, only rescaling\n",
    "data_gen_val = ImageDataGenerator()\n",
    "\n",
    "# sequential model\n",
    "def build_model(input_shape=(128, 128, 3), num_classes=4):\n",
    "    model = Sequential([\n",
    "        Conv2D(32, kernel_size=(3, 3), activation='relu', input_shape=input_shape),\n",
    "        MaxPooling2D(pool_size=(2, 2)),\n",
    "        Conv2D(64, (3, 3), activation='relu'),\n",
    "        MaxPooling2D(pool_size=(2, 2)),\n",
    "        Flatten(),\n",
    "        Dense(128, activation='relu'),\n",
    "        Dropout(0.5),\n",
    "        Dense(num_classes, activation='softmax')\n",
    "    ])\n",
    "    return model\n",
    "\n",
    "# generate new images\n",
    "train_generator = data_gen_train.flow(X_train, y_train, batch_size=32)\n",
    "val_generator = data_gen_val.flow(X_val, y_val, batch_size=32)\n",
    "\n",
    "# build and compile the model\n",
    "model_orientation = build_model(input_shape=X_train.shape[1:])\n",
    "model_orientation.compile(loss='categorical_crossentropy', optimizer='adam', metrics=['accuracy'])\n",
    "\n",
    "# train the model\n",
    "history = model_orientation.fit(\n",
    "    train_generator,\n",
    "    epochs=10,\n",
    "    validation_data=val_generator  \n",
    ")\n",
    "\n",
    "# evaluate\n",
    "test_loss, test_acc = model_orientation.evaluate(X_test, y_test)\n",
    "print(f\"Test accuracy: {test_acc}\")\n"
   ]
  },
  {
   "cell_type": "code",
   "execution_count": 5,
   "metadata": {},
   "outputs": [],
   "source": [
    "# flatten angles to avoid an error\n",
    "angles = angles.flatten() \n",
    "\n",
    "# initialise dictionary to group masks by orientation\n",
    "masks_grouped_by_orientation = {0: [], 1: [], 2: [], 3: []}\n",
    "\n",
    "# group masks by their orientation\n",
    "for mask, angle in zip(masks, angles):\n",
    "    angle_key = int(angle) \n",
    "    masks_grouped_by_orientation[angle_key].append(mask)\n",
    "\n",
    "# initialise intersection masks\n",
    "intersection_masks = {}\n",
    "\n",
    "for orientation, grouped_masks in masks_grouped_by_orientation.items():\n",
    "    if grouped_masks:  # check for masks\n",
    "        # use first mask as starting point\n",
    "        intersection_mask = grouped_masks[0].astype(np.bool_)\n",
    "        \n",
    "        # perform logical AND \n",
    "        for mask in grouped_masks[1:]:  # kip the first mask \n",
    "            intersection_mask = np.logical_and(intersection_mask, mask.astype(np.bool_))\n",
    "        \n",
    "        intersection_masks[orientation] = intersection_mask.astype(np.uint8) # convert to binary"
   ]
  },
  {
   "cell_type": "code",
   "execution_count": 6,
   "metadata": {},
   "outputs": [
    {
     "data": {
      "text/plain": [
       "(-0.5, 127.5, 127.5, -0.5)"
      ]
     },
     "execution_count": 6,
     "metadata": {},
     "output_type": "execute_result"
    },
    {
     "data": {
      "image/png": "[encoded data removed]",
      "text/plain": [
       "<Figure size 640x480 with 1 Axes>"
      ]
     },
     "metadata": {},
     "output_type": "display_data"
    }
   ],
   "source": [
    "plt.imshow(intersection_masks[3], cmap='Purples', alpha=0.6)\n",
    "plt.axis('Off')"
   ]
  },
  {
   "cell_type": "code",
   "execution_count": 69,
   "metadata": {},
   "outputs": [
    {
     "data": {
      "text/plain": [
       "\"\\n# defined simple U-NET network\\ndef unet(input_size=(128, 128, 3)):\\n    \\n    inputs = Input(input_size) # define input\\n\\n    # downsampling path\\n    # block1\\n    conv1 = Conv2D(64, 3, activation='relu', padding='same', kernel_initializer='he_normal')(inputs)\\n    conv1 = Conv2D(64, 3, activation='relu', padding='same', kernel_initializer='he_normal')(conv1)\\n    pool1 = MaxPooling2D(pool_size=(2, 2))(conv1)\\n    \\n    # block 2\\n    conv2 = Conv2D(128, 3, activation='relu', padding='same', kernel_initializer='he_normal')(pool1)\\n    conv2 = Conv2D(128, 3, activation='relu', padding='same', kernel_initializer='he_normal')(conv2)\\n    pool2 = MaxPooling2D(pool_size=(2, 2))(conv2)\\n    \\n    # upsampling\\n    \\n    up1 = Conv2DTranspose(64, 2, strides=(2, 2), padding='same')(conv2) # upconvolution\\n\\n    merge1 = concatenate([conv1, up1], axis=3) # concatenate feature maps from down-sampling path and up-convolution\\n\\n    # block 3\\n    convUp1 = Conv2D(64, 3, activation='relu', padding='same', kernel_initializer='he_normal')(merge1)\\n    convUp1 = Conv2D(64, 3, activation='relu', padding='same', kernel_initializer='he_normal')(convUp1)\\n    \\n    convFinal = Conv2D(1, 1, activation='sigmoid')(convUp1) # output layer\\n\\n    model = Model(inputs=[inputs], outputs=[convFinal])\\n    \\n    return model\\n\\n\\n# compile\\nmodel = unet()\\nmodel.compile(optimizer='adam', loss='binary_crossentropy', metrics=['accuracy'])\\n\\n\\n# fit\\nmodel.fit(images, masks, batch_size=20, epochs=250, validation_split=0.1)\\n\""
      ]
     },
     "execution_count": 69,
     "metadata": {},
     "output_type": "execute_result"
    }
   ],
   "source": [
    "\"\"\"\n",
    "# defined simple U-NET network\n",
    "def unet(input_size=(128, 128, 3)):\n",
    "    \n",
    "    inputs = Input(input_size) # define input\n",
    "\n",
    "    # downsampling path\n",
    "    # block1\n",
    "    conv1 = Conv2D(64, 3, activation='relu', padding='same', kernel_initializer='he_normal')(inputs)\n",
    "    conv1 = Conv2D(64, 3, activation='relu', padding='same', kernel_initializer='he_normal')(conv1)\n",
    "    pool1 = MaxPooling2D(pool_size=(2, 2))(conv1)\n",
    "    \n",
    "    # block 2\n",
    "    conv2 = Conv2D(128, 3, activation='relu', padding='same', kernel_initializer='he_normal')(pool1)\n",
    "    conv2 = Conv2D(128, 3, activation='relu', padding='same', kernel_initializer='he_normal')(conv2)\n",
    "    pool2 = MaxPooling2D(pool_size=(2, 2))(conv2)\n",
    "    \n",
    "    # upsampling\n",
    "    \n",
    "    up1 = Conv2DTranspose(64, 2, strides=(2, 2), padding='same')(conv2) # upconvolution\n",
    "\n",
    "    merge1 = concatenate([conv1, up1], axis=3) # concatenate feature maps from down-sampling path and up-convolution\n",
    "\n",
    "    # block 3\n",
    "    convUp1 = Conv2D(64, 3, activation='relu', padding='same', kernel_initializer='he_normal')(merge1)\n",
    "    convUp1 = Conv2D(64, 3, activation='relu', padding='same', kernel_initializer='he_normal')(convUp1)\n",
    "    \n",
    "    convFinal = Conv2D(1, 1, activation='sigmoid')(convUp1) # output layer\n",
    "\n",
    "    model = Model(inputs=[inputs], outputs=[convFinal])\n",
    "    \n",
    "    return model\n",
    "\n",
    "\n",
    "# compile\n",
    "model = unet()\n",
    "model.compile(optimizer='adam', loss='binary_crossentropy', metrics=['accuracy'])\n",
    "\n",
    "\n",
    "# fit\n",
    "model.fit(images, masks, batch_size=20, epochs=250, validation_split=0.1)\n",
    "\"\"\""
   ]
  },
  {
   "cell_type": "code",
   "execution_count": 68,
   "metadata": {},
   "outputs": [
    {
     "data": {
      "text/plain": [
       "'\\n# new directories\\nnew_mask_dirs = [\"./New_Mask_Training\", \"./New_Mask_Testing\"]\\n\\n# clear and copy existing masks\\nfor mask_dir, new_mask_dir in zip(mask_dirs, new_mask_dirs):\\n    if os.path.exists(new_mask_dir):\\n        shutil.rmtree(new_mask_dir)  #  deletes contents\\n    shutil.copytree(mask_dir, new_mask_dir)  # copy contents from the original mask directory\\n\\n# generate and save masks for missing images\\nfor base_dir, new_mask_dir in zip(base_dirs, new_mask_dirs):\\n    for category in categories:\\n\\n        # define path to current category and directory\\n        img_category_path = os.path.join(base_dir, category)\\n        new_mask_category_path = os.path.join(new_mask_dir, category)\\n        \\n        for img_name in os.listdir(img_category_path):\\n            if img_name.lower().endswith((\\'.png\\', \\'.jpg\\', \\'.jpeg\\')) and not img_name.startswith(\\'.\\'):\\n                img_path = os.path.join(img_category_path, img_name)\\n                new_mask_path = os.path.join(new_mask_category_path, img_name.replace(\\'.jpg\\', \\'.png\\').replace(\\'.jpeg\\', \\'.png\\'))  # ensure mask uses PNG format\\n                \\n                if not os.path.exists(new_mask_path):  # Only process images without an existing mask\\n                    \\n                    # process the image and predict the mask here\\n                    img = Image.open(img_path)\\n                    img = img.resize((128, 128))  # normalise\\n                    img_array = np.array(img) / 255.0\\n                    img_array = np.expand_dims(img_array, axis=0)  # expects a 4D tensor\\n                    \\n                    # predict mask\\n                    predicted_mask = model.predict(img_array)\\n                    predicted_mask = np.squeeze(predicted_mask)\\n                    predicted_mask = (predicted_mask > 0.5).astype(np.uint8)  # convert to binary mask\\n                    \\n                    # save the mask\\n                    mask_image = Image.fromarray(predicted_mask * 255)\\n                    mask_image.save(new_mask_path)\\n                    print(f\"Saved new mask to {new_mask_path}\")\\n'"
      ]
     },
     "execution_count": 68,
     "metadata": {},
     "output_type": "execute_result"
    }
   ],
   "source": [
    "\"\"\"\n",
    "# new directories\n",
    "new_mask_dirs = [\"./New_Mask_Training\", \"./New_Mask_Testing\"]\n",
    "\n",
    "# clear and copy existing masks\n",
    "for mask_dir, new_mask_dir in zip(mask_dirs, new_mask_dirs):\n",
    "    if os.path.exists(new_mask_dir):\n",
    "        shutil.rmtree(new_mask_dir)  #  deletes contents\n",
    "    shutil.copytree(mask_dir, new_mask_dir)  # copy contents from the original mask directory\n",
    "\n",
    "# generate and save masks for missing images\n",
    "for base_dir, new_mask_dir in zip(base_dirs, new_mask_dirs):\n",
    "    for category in categories:\n",
    "\n",
    "        # define path to current category and directory\n",
    "        img_category_path = os.path.join(base_dir, category)\n",
    "        new_mask_category_path = os.path.join(new_mask_dir, category)\n",
    "        \n",
    "        for img_name in os.listdir(img_category_path):\n",
    "            if img_name.lower().endswith(('.png', '.jpg', '.jpeg')) and not img_name.startswith('.'):\n",
    "                img_path = os.path.join(img_category_path, img_name)\n",
    "                new_mask_path = os.path.join(new_mask_category_path, img_name.replace('.jpg', '.png').replace('.jpeg', '.png'))  # ensure mask uses PNG format\n",
    "                \n",
    "                if not os.path.exists(new_mask_path):  # Only process images without an existing mask\n",
    "                    \n",
    "                    # process the image and predict the mask here\n",
    "                    img = Image.open(img_path)\n",
    "                    img = img.resize((128, 128))  # normalise\n",
    "                    img_array = np.array(img) / 255.0\n",
    "                    img_array = np.expand_dims(img_array, axis=0)  # expects a 4D tensor\n",
    "                    \n",
    "                    # predict mask\n",
    "                    predicted_mask = model.predict(img_array)\n",
    "                    predicted_mask = np.squeeze(predicted_mask)\n",
    "                    predicted_mask = (predicted_mask > 0.5).astype(np.uint8)  # convert to binary mask\n",
    "                    \n",
    "                    # save the mask\n",
    "                    mask_image = Image.fromarray(predicted_mask * 255)\n",
    "                    mask_image.save(new_mask_path)\n",
    "                    print(f\"Saved new mask to {new_mask_path}\")\n",
    "\"\"\""
   ]
  },
  {
   "cell_type": "code",
   "execution_count": 7,
   "metadata": {},
   "outputs": [],
   "source": [
    "# define angles manually\n",
    "angles = np.array([1,1,0,1,1,1,1,3,3,1,2,2,1,1,1,1,1,1,1,1,3,3,1,1,2,1,1,1,1,0,3,3,3,3,3,3,3,3,3,3,2,0,3,1,3,1,1,3,1,2,2,3,1,1,3,3,3,1,3,3,1,1,1,1,0,2,1,3,1,1,0,2,2,2,0,0,2,2,2,2])"
   ]
  },
  {
   "cell_type": "code",
   "execution_count": 8,
   "metadata": {},
   "outputs": [],
   "source": [
    "# templates for training\n",
    "\n",
    "# initalise templates\n",
    "image_template_masks = []\n",
    "\n",
    "# iterate for angles\n",
    "for angle in angles:\n",
    "    # retrieve orientation\n",
    "    template_mask = intersection_masks[angle]\n",
    "    \n",
    "    # append to list\n",
    "    image_template_masks.append(template_mask)\n",
    "\n",
    "# convert\n",
    "    \n",
    "image_template_masks_array = np.array(image_template_masks)"
   ]
  },
  {
   "cell_type": "code",
   "execution_count": 27,
   "metadata": {},
   "outputs": [
    {
     "name": "stdout",
     "output_type": "stream",
     "text": [
      "Epoch 1/10\n"
     ]
    }
   ],
   "source": [
    "import tensorflow as tf\n",
    "\n",
    "def unet(input_img_size=(128, 128, 3), input_mask_size=(128, 128, 1)):\n",
    "    input_img = Input(input_img_size, name='img_input')\n",
    "    input_mask = Input(input_mask_size, name='mask_input')\n",
    "    \n",
    "    inputs = concatenate([input_img, input_mask], axis=3)\n",
    "    \n",
    "    # downsampling path with batch normalisation and dropout\n",
    "    conv1 = Conv2D(64, 3, activation='relu', padding='same', kernel_initializer='he_normal')(inputs)\n",
    "    conv1 = BatchNormalization()(conv1)\n",
    "    conv1 = Conv2D(64, 3, activation='relu', padding='same', kernel_initializer='he_normal')(conv1)\n",
    "    conv1 = BatchNormalization()(conv1)\n",
    "    pool1 = MaxPooling2D(pool_size=(2, 2))(conv1)\n",
    "    pool1 = Dropout(0.50)(pool1)  # dropout (regularisation)\n",
    "\n",
    "    conv2 = Conv2D(128, 3, activation='relu', padding='same', kernel_initializer='he_normal')(pool1)\n",
    "    conv2 = BatchNormalization()(conv2)\n",
    "    conv2 = Conv2D(128, 3, activation='relu', padding='same', kernel_initializer='he_normal')(conv2)\n",
    "    conv2 = BatchNormalization()(conv2)\n",
    "    pool2 = MaxPooling2D(pool_size=(2, 2))(conv2)\n",
    "    pool2 = Dropout(0.75)(pool2)  # increase dropout for deeper layers\n",
    "\n",
    "    # bottleneck\n",
    "    convB = Conv2D(256, 3, activation='relu', padding='same', kernel_initializer='he_normal')(pool2)\n",
    "    convB = Conv2D(256, 3, activation='relu', padding='same', kernel_initializer='he_normal')(convB)\n",
    "\n",
    "    # upsampling path\n",
    "    up1 = Conv2DTranspose(128, 2, strides=(2, 2), padding='same')(convB)\n",
    "    merge1 = concatenate([conv2, up1], axis=3)\n",
    "    merge1 = Dropout(0.75)(merge1)\n",
    "\n",
    "    convUp1 = Conv2D(128, 3, activation='relu', padding='same', kernel_initializer='he_normal')(merge1)\n",
    "    convUp1 = Conv2D(128, 3, activation='relu', padding='same', kernel_initializer='he_normal')(convUp1)\n",
    "\n",
    "    up2 = Conv2DTranspose(64, 2, strides=(2, 2), padding='same')(convUp1)\n",
    "    merge2 = concatenate([conv1, up2], axis=3) \n",
    "    merge2 = Dropout(0.50)(merge2)\n",
    "\n",
    "    convUp2 = Conv2D(64, 3, activation='relu', padding='same', kernel_initializer='he_normal')(merge2)\n",
    "    convUp2 = Conv2D(64, 3, activation='relu', padding='same', kernel_initializer='he_normal')(convUp2)\n",
    "\n",
    "    convFinal = Conv2D(1, 1, activation='sigmoid', name='mask_output')(convUp2)\n",
    "\n",
    "    model = Model(inputs=[input_img, input_mask], outputs=[convFinal])\n",
    "    \n",
    "    return model\n",
    "\n",
    "# define dice soft\n",
    "def dice_coeff(y_true, y_pred):\n",
    "    smooth = 1.\n",
    "    # Convert y_true to float32 to match y_pred's type\n",
    "    y_true_f = tf.cast(tf.reshape(y_true, [-1]), tf.float32)\n",
    "    y_pred_f = tf.reshape(y_pred, [-1])\n",
    "    intersection = tf.reduce_sum(y_true_f * y_pred_f)\n",
    "    return (2. * intersection + smooth) / (tf.reduce_sum(y_true_f) + tf.reduce_sum(y_pred_f) + smooth)\n",
    "\n",
    "def dice_loss(y_true, y_pred):\n",
    "    return 1 - dice_coeff(y_true, y_pred)\n",
    "\n",
    "# define and compile\n",
    "model = unet()\n",
    "model.compile(optimizer='adam', loss=dice_loss, metrics=['accuracy']) #~loss can be set to : 'binary_crossentropy' or dice_loss\n",
    "\n",
    "# train (fit)\n",
    "model.fit([images, image_template_masks_array], masks, batch_size=20, epochs=10, validation_split=0.1)\n"
   ]
  },
  {
   "cell_type": "code",
   "execution_count": 26,
   "metadata": {},
   "outputs": [
    {
     "name": "stdout",
     "output_type": "stream",
     "text": [
      "WARNING:tensorflow:6 out of the last 9 calls to <function Model.make_predict_function.<locals>.predict_function at 0x000001C166E04790> triggered tf.function retracing. Tracing is expensive and the excessive number of tracings could be due to (1) creating @tf.function repeatedly in a loop, (2) passing tensors with different shapes, (3) passing Python objects instead of tensors. For (1), please define your @tf.function outside of the loop. For (2), @tf.function has reduce_retracing=True option that can avoid unnecessary retracing. For (3), please refer to https://www.tensorflow.org/guide/function#controlling_retracing and https://www.tensorflow.org/api_docs/python/tf/function for  more details.\n",
      "1/1 [==============================] - 0s 256ms/step\n"
     ]
    },
    {
     "name": "stderr",
     "output_type": "stream",
     "text": [
      "C:\\Users\\alejo\\AppData\\Local\\Temp\\ipykernel_39472\\33180787.py:44: DeprecationWarning: `product` is deprecated as of NumPy 1.25.0, and will be removed in NumPy 2.0. Please use `prod` instead.\n",
      "  processed_mask = get_largest_blob_mask(predicted_mask_binary)\n"
     ]
    },
    {
     "data": {
      "image/png": "[encoded data removed]",
      "text/plain": [
       "<Figure size 400x400 with 1 Axes>"
      ]
     },
     "metadata": {},
     "output_type": "display_data"
    }
   ],
   "source": [
    "def get_largest_blob_mask(predicted_mask_binary):\n",
    "    \"\"\"\n",
    "    processes the predicted binary mask to keep only the largest connected component (blob).\n",
    "    \n",
    "    parameters:\n",
    "    - predicted_mask_binary: A binary mask as a 2D numpy array.\n",
    "    \n",
    "    returns:\n",
    "    - binary mask as a 2D numpy array with only the largest blob.\n",
    "    \"\"\"\n",
    "    # label the connected components\n",
    "    labeled_array, num_features = label(predicted_mask_binary)\n",
    "\n",
    "    # find objects will give us the slice indexes of each blob\n",
    "    slice_indexes = find_objects(labeled_array)\n",
    "\n",
    "    # identify largest blob\n",
    "    largest_blob = 0\n",
    "    largest_area = 0\n",
    "    for i, slice_index in enumerate(slice_indexes):\n",
    "        area = np.product([s.stop - s.start for s in slice_index])\n",
    "        if area > largest_area:\n",
    "            largest_area = area\n",
    "            largest_blob = i + 1 \n",
    "\n",
    "    # create a new mask with only the largest blob\n",
    "    largest_blob_mask = np.zeros_like(predicted_mask_binary)\n",
    "    largest_blob_mask[labeled_array == largest_blob] = 1\n",
    "\n",
    "    return largest_blob_mask\n",
    "\n",
    "# sample\n",
    "sample_image = images[46]  \n",
    "sample_template_mask = image_template_masks_array[46] \n",
    "\n",
    "# preprocess\n",
    "sample_image_preprocessed = np.expand_dims(sample_image, axis=0) \n",
    "sample_template_mask_preprocessed = np.expand_dims(sample_template_mask, axis=0)  \n",
    "\n",
    "# predict the mask using the model\n",
    "predicted_mask = model.predict([sample_image_preprocessed, sample_template_mask_preprocessed])\n",
    "predicted_mask_binary = (predicted_mask[0] > 0.5).astype(np.uint8) \n",
    "# Now get the binary mask with only the largest blob\n",
    "processed_mask = get_largest_blob_mask(predicted_mask_binary)\n",
    "\n",
    "\n",
    "# Visualization\n",
    "plt.figure(figsize=(4, 4))\n",
    "copy_mask = masks # convert to binary mask\n",
    "plt.imshow(images[46], cmap='gray')\n",
    "#plt.imshow(copy_mask[46], cmap='Purples', alpha=0.5)\n",
    "plt.imshow(processed_mask, cmap='Blues', alpha=0.5)  \n",
    "\n",
    "plt.axis('off')  # Hide the axis\n",
    "plt.show()\n",
    "\n"
   ]
  },
  {
   "cell_type": "code",
   "execution_count": 65,
   "metadata": {},
   "outputs": [
    {
     "data": {
      "text/plain": [
       "(-0.5, 127.5, 127.5, -0.5)"
      ]
     },
     "execution_count": 65,
     "metadata": {},
     "output_type": "execute_result"
    },
    {
     "data": {
      "image/png": "[encoded data removed]",
      "text/plain": [
       "<Figure size 640x480 with 1 Axes>"
      ]
     },
     "metadata": {},
     "output_type": "display_data"
    }
   ],
   "source": [
    "plt.imshow(template_mask, cmap='Purples', alpha=0.6)\n",
    "plt.axis('Off')"
   ]
  }
 ],
 "metadata": {
  "kernelspec": {
   "display_name": "Python 3",
   "language": "python",
   "name": "python3"
  },
  "language_info": {
   "codemirror_mode": {
    "name": "ipython",
    "version": 3
   },
   "file_extension": ".py",
   "mimetype": "text/x-python",
   "name": "python",
   "nbconvert_exporter": "python",
   "pygments_lexer": "ipython3",
   "version": "3.10.9"
  }
 },
 "nbformat": 4,
 "nbformat_minor": 2
}
