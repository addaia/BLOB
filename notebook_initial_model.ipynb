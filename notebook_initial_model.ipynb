{
 "cells": [
  {
   "cell_type": "code",
   "execution_count": 1,
   "metadata": {},
   "outputs": [],
   "source": [
    "# IMPORTS\n",
    "import os\n",
    "import cv2\n",
    "from PIL import Image\n",
    "import numpy as np\n",
    "import matplotlib.pyplot as plt\n",
    "import tensorflow as tf\n",
    "from sklearn.model_selection import train_test_split\n",
    "from tensorflow.keras import layers, models\n",
    "from sklearn.metrics import confusion_matrix\n",
    "from skimage import morphology, filters, exposure, feature\n",
    "from scipy import ndimage\n",
    "from tensorflow.keras.preprocessing.image import ImageDataGenerator\n",
    "import seaborn as sns\n",
    "import pandas as pd\n",
    "from sklearn.svm import SVC\n",
    "from sklearn.linear_model import LinearRegression"
   ]
  },
  {
   "cell_type": "code",
   "execution_count": 71,
   "metadata": {},
   "outputs": [],
   "source": [
    "# directories\n",
    "base_dirs = [\"./New_Mask_Training\", \"./New_Mask_Testing\"]\n",
    "\n",
    "# subfolders\n",
    "categories = ['glioma_tumor', 'meningioma_tumor', 'no_tumor', 'pituitary_tumor']\n",
    "\n",
    "# labels\n",
    "labels = {'glioma_tumor': 1, 'meningioma_tumor': 1, 'no_tumor': 0, 'pituitary_tumor': 1}\n",
    "\n",
    "# Lists to store the images and labels\n",
    "images = []\n",
    "image_labels = []\n",
    "\n",
    "# loop\n",
    "for base_dir in base_dirs:\n",
    "    for category in categories:\n",
    "        category_path = os.path.join(base_dir, category)\n",
    "        for img_name in os.listdir(category_path): \n",
    "            if img_name.lower().endswith(('.png', '.jpg', '.jpeg')): # filter out non-image files\n",
    "                img_path = os.path.join(category_path, img_name)\n",
    "                img = Image.open(img_path)\n",
    "                img = img.resize((128, 128))  # resize images for uniformity\n",
    "                img = np.array(img) # convert to array\n",
    "                images.append(img)\n",
    "                image_labels.append(labels[category])\n",
    "\n",
    "# convert lists to numpy arrays\n",
    "images = np.array(images)\n",
    "image_labels = np.array(image_labels)\n"
   ]
  },
  {
   "cell_type": "code",
   "execution_count": 67,
   "metadata": {},
   "outputs": [
    {
     "data": {
      "text/plain": [
       "500"
      ]
     },
     "execution_count": 67,
     "metadata": {},
     "output_type": "execute_result"
    }
   ],
   "source": [
    "sum(image_labels==0)"
   ]
  },
  {
   "cell_type": "code",
   "execution_count": 84,
   "metadata": {},
   "outputs": [],
   "source": [
    "# data augmentation\n",
    "\n",
    "non_tumorous_images = images[image_labels == 0]\n",
    "\n",
    "# define your data augmentation generator\n",
    "data_gen = ImageDataGenerator(\n",
    "    rotation_range=20,\n",
    "    width_shift_range=0.2,\n",
    "    height_shift_range=0.2,\n",
    "    shear_range=0.2,\n",
    "    zoom_range=0.2,\n",
    "    horizontal_flip=False,\n",
    "    fill_mode='nearest'\n",
    ")\n",
    "\n",
    "# the .flow() method generates batches of augmented data\n",
    "augmented_data = data_gen.flow(non_tumorous_images, batch_size=1)\n",
    "\n",
    "# generate 3 times the amount of non-tumorous images\n",
    "augmented_images = []\n",
    "augmented_labels = []\n",
    "for i in range(len(non_tumorous_images) * 2): \n",
    "    augmented_img = next(augmented_data)[0].astype('uint8')\n",
    "    augmented_images.append(augmented_img)\n",
    "    augmented_labels.append(0) \n",
    "\n",
    "# convert the lists \n",
    "augmented_images = np.array(augmented_images)\n",
    "augmented_labels = np.array(augmented_labels)\n",
    "\n",
    "# combine\n",
    "images = np.concatenate((images, augmented_images), axis=0)\n",
    "image_labels = np.concatenate((image_labels, augmented_labels), axis=0)\n"
   ]
  },
  {
   "cell_type": "code",
   "execution_count": 85,
   "metadata": {},
   "outputs": [
    {
     "data": {
      "text/plain": [
       "1500"
      ]
     },
     "execution_count": 85,
     "metadata": {},
     "output_type": "execute_result"
    }
   ],
   "source": [
    "sum(image_labels==0)"
   ]
  },
  {
   "cell_type": "code",
   "execution_count": 146,
   "metadata": {},
   "outputs": [
    {
     "name": "stdout",
     "output_type": "stream",
     "text": [
      "Model: \"sequential_25\"\n",
      "_________________________________________________________________\n",
      " Layer (type)                Output Shape              Param #   \n",
      "=================================================================\n",
      " conv2d_75 (Conv2D)          (None, 126, 126, 32)      896       \n",
      "                                                                 \n",
      " max_pooling2d_50 (MaxPoolin  (None, 63, 63, 32)       0         \n",
      " g2D)                                                            \n",
      "                                                                 \n",
      " conv2d_76 (Conv2D)          (None, 61, 61, 64)        18496     \n",
      "                                                                 \n",
      " max_pooling2d_51 (MaxPoolin  (None, 30, 30, 64)       0         \n",
      " g2D)                                                            \n",
      "                                                                 \n",
      " conv2d_77 (Conv2D)          (None, 28, 28, 64)        36928     \n",
      "                                                                 \n",
      " flatten_25 (Flatten)        (None, 50176)             0         \n",
      "                                                                 \n",
      " dense_50 (Dense)            (None, 64)                3211328   \n",
      "                                                                 \n",
      " dense_51 (Dense)            (None, 1)                 65        \n",
      "                                                                 \n",
      "=================================================================\n",
      "Total params: 3,267,713\n",
      "Trainable params: 3,267,713\n",
      "Non-trainable params: 0\n",
      "_________________________________________________________________\n",
      "Epoch 1/10\n",
      "107/107 [==============================] - 26s 226ms/step - loss: 0.4708 - accuracy: 0.7836 - val_loss: 0.2680 - val_accuracy: 0.8898\n",
      "Epoch 2/10\n",
      "107/107 [==============================] - 23s 212ms/step - loss: 0.2497 - accuracy: 0.9047 - val_loss: 0.2258 - val_accuracy: 0.8992\n",
      "Epoch 3/10\n",
      "107/107 [==============================] - 23s 211ms/step - loss: 0.1817 - accuracy: 0.9290 - val_loss: 0.2598 - val_accuracy: 0.9050\n",
      "Epoch 4/10\n",
      "107/107 [==============================] - 22s 204ms/step - loss: 0.1183 - accuracy: 0.9554 - val_loss: 0.1966 - val_accuracy: 0.9426\n",
      "Epoch 5/10\n",
      "107/107 [==============================] - 22s 207ms/step - loss: 0.0856 - accuracy: 0.9710 - val_loss: 0.2066 - val_accuracy: 0.9437\n",
      "Epoch 6/10\n",
      "107/107 [==============================] - 23s 214ms/step - loss: 0.0506 - accuracy: 0.9821 - val_loss: 0.2208 - val_accuracy: 0.9390\n",
      "Epoch 7/10\n",
      "107/107 [==============================] - 29s 275ms/step - loss: 0.0365 - accuracy: 0.9877 - val_loss: 0.3435 - val_accuracy: 0.9355\n",
      "Epoch 8/10\n",
      "107/107 [==============================] - 24s 221ms/step - loss: 0.0207 - accuracy: 0.9924 - val_loss: 0.2788 - val_accuracy: 0.9437\n",
      "Epoch 9/10\n",
      "107/107 [==============================] - 21s 195ms/step - loss: 0.0446 - accuracy: 0.9833 - val_loss: 0.3405 - val_accuracy: 0.9297\n",
      "Epoch 10/10\n",
      "107/107 [==============================] - 22s 204ms/step - loss: 0.0183 - accuracy: 0.9927 - val_loss: 0.2524 - val_accuracy: 0.9484\n"
     ]
    }
   ],
   "source": [
    "# model\n",
    "model = models.Sequential([\n",
    "    # convolution layers\n",
    "    layers.Conv2D(32, (3, 3), activation='relu', input_shape=(128, 128, 3)),\n",
    "    layers.MaxPooling2D((2, 2)),\n",
    "    layers.Conv2D(64, (3, 3), activation='relu'),\n",
    "    layers.MaxPooling2D((2, 2)),\n",
    "    layers.Conv2D(64, (3, 3), activation='relu'),\n",
    "    \n",
    "    # dense layers\n",
    "    layers.Flatten(),\n",
    "    layers.Dense(64, activation='relu'),\n",
    "    layers.Dense(1, activation='sigmoid') \n",
    "])\n",
    "\n",
    "# compile the model\n",
    "model.compile(optimizer='adam',\n",
    "              loss='binary_crossentropy',\n",
    "              metrics=['accuracy'])\n",
    "\n",
    "model.summary()\n",
    "\n",
    "# split to test vs train\n",
    "X_train, X_test, y_train, y_test = train_test_split(images, image_labels, test_size=0.2, random_state=42)\n",
    "\n",
    "\n",
    "# Assuming images is a four-dimensional array of shape (num_images, height, width, channels)\n",
    "X_train = X_train[:, :, :, :3]  # Keep only the first three channels for the training set\n",
    "X_test = X_test[:, :, :, :3]    # Keep only the first three channels for the testing set\n",
    "\n",
    "\n",
    "# normalise the images\n",
    "X_train = X_train / 255.0\n",
    "X_test = X_test / 255.0\n",
    "\n",
    "# fit the model\n",
    "history = model.fit(X_train, y_train, epochs=10, validation_data=(X_test, y_test))"
   ]
  },
  {
   "cell_type": "code",
   "execution_count": 151,
   "metadata": {},
   "outputs": [
    {
     "ename": "SyntaxError",
     "evalue": "incomplete input (3008834994.py, line 1)",
     "output_type": "error",
     "traceback": [
      "\u001b[1;36m  Cell \u001b[1;32mIn[151], line 1\u001b[1;36m\u001b[0m\n\u001b[1;33m    \"\"\"\u001b[0m\n\u001b[1;37m    ^\u001b[0m\n\u001b[1;31mSyntaxError\u001b[0m\u001b[1;31m:\u001b[0m incomplete input\n"
     ]
    }
   ],
   "source": [
    "\"\"\" ITERATE TO FIND MODEL WITH 0 FN\n",
    "a = 10\n",
    "while a > 0:\n",
    "        # model\n",
    "    model = models.Sequential([\n",
    "        # convolution layers\n",
    "        layers.Conv2D(32, (3, 3), activation='relu', input_shape=(128, 128, 3)),\n",
    "        layers.MaxPooling2D((2, 2)),\n",
    "        layers.Conv2D(64, (3, 3), activation='relu'),\n",
    "        layers.MaxPooling2D((2, 2)),\n",
    "        layers.Conv2D(64, (3, 3), activation='relu'),\n",
    "        \n",
    "        # dense layers\n",
    "        layers.Flatten(),\n",
    "        layers.Dense(64, activation='relu'),\n",
    "        layers.Dense(1, activation='sigmoid') \n",
    "    ])\n",
    "\n",
    "    # compile the model\n",
    "    model.compile(optimizer='adam',\n",
    "                loss='binary_crossentropy',\n",
    "                metrics=['accuracy'])\n",
    "\n",
    "    # split to test vs train\n",
    "    X_train, X_test, y_train, y_test = train_test_split(images, image_labels, test_size=0.2, random_state=42)\n",
    "\n",
    "\n",
    "    # run with preprocessed images -SSM\n",
    "    X_train = X_train[:, :, :, :3]\n",
    "    X_test = X_test[:, :, :, :3]  \n",
    "\n",
    "\n",
    "    # normalise the images\n",
    "    X_train = X_train / 255.0\n",
    "    X_test = X_test / 255.0\n",
    "\n",
    "    history = model.fit(X_train, y_train, epochs=10, validation_data=(X_test, y_test))\n",
    "    # calculate prediction\n",
    "    y_pred = model.predict(X_test)\n",
    "    y_pred = (y_pred > 0.001).astype(int)\n",
    "\n",
    "    # calculate the confusion matrix\n",
    "    cm = confusion_matrix(y_test, y_pred)\n",
    "    a=cm[1][0]\n",
    "    # print\n",
    "    print(a)\n",
    "\"\"\""
   ]
  },
  {
   "cell_type": "code",
   "execution_count": null,
   "metadata": {},
   "outputs": [],
   "source": [
    "\n",
    "# copy data\n",
    "history_data = {\n",
    "    \"Accuracy\": [0.8109, 0.9217, 0.9457, 0.9616, 0.9762, 0.9883, 0.9950, 0.9935, 0.9977, 0.9912],\n",
    "    \"Validation Accuracy\": [0.9109, 0.9039, 0.9226, 0.9531, 0.9566, 0.9566, 0.9555, 0.9578, 0.9531, 0.9367],\n",
    "    \"Epoch\": list(range(1, 11))\n",
    "}\n",
    "\n",
    "df = pd.DataFrame(history_data)\n",
    "\n",
    "sns.set(style=\"whitegrid\")\n",
    "plt.figure(figsize=(10, 6))\n",
    "sns.lineplot(data=df, x=\"Epoch\", y=\"Accuracy\", label=\"Training Accuracy\", marker=\"o\")\n",
    "sns.lineplot(data=df, x=\"Epoch\", y=\"Validation Accuracy\", label=\"Validation Accuracy\", marker=\"o\")\n",
    "plt.axvline(x=7, color=\"red\", linestyle=\"--\", label=\"Overfitting starts\")\n",
    "plt.text(8, 0.7, 'Overfitting', color='red')\n",
    "plt.xlabel(\"Epoch\")\n",
    "plt.ylabel(\"Accuracy\")\n",
    "plt.legend()\n",
    "plt.show()\n"
   ]
  },
  {
   "cell_type": "code",
   "execution_count": 62,
   "metadata": {},
   "outputs": [
    {
     "name": "stderr",
     "output_type": "stream",
     "text": [
      "c:\\Users\\alejo\\miniconda3\\lib\\site-packages\\seaborn\\_oldcore.py:1119: FutureWarning: use_inf_as_na option is deprecated and will be removed in a future version. Convert inf values to NaN before operating instead.\n",
      "  with pd.option_context('mode.use_inf_as_na', True):\n",
      "c:\\Users\\alejo\\miniconda3\\lib\\site-packages\\seaborn\\_oldcore.py:1119: FutureWarning: use_inf_as_na option is deprecated and will be removed in a future version. Convert inf values to NaN before operating instead.\n",
      "  with pd.option_context('mode.use_inf_as_na', True):\n",
      "c:\\Users\\alejo\\miniconda3\\lib\\site-packages\\seaborn\\_oldcore.py:1119: FutureWarning: use_inf_as_na option is deprecated and will be removed in a future version. Convert inf values to NaN before operating instead.\n",
      "  with pd.option_context('mode.use_inf_as_na', True):\n",
      "c:\\Users\\alejo\\miniconda3\\lib\\site-packages\\seaborn\\_oldcore.py:1119: FutureWarning: use_inf_as_na option is deprecated and will be removed in a future version. Convert inf values to NaN before operating instead.\n",
      "  with pd.option_context('mode.use_inf_as_na', True):\n"
     ]
    },
    {
     "data": {
      "image/png": "[encoded data removed]",
      "text/plain": [
       "<Figure size 1000x600 with 1 Axes>"
      ]
     },
     "metadata": {},
     "output_type": "display_data"
    }
   ],
   "source": [
    "\n",
    "# copy data\n",
    "history_data = {\n",
    "    \"Accuracy\": [0.8109, 0.9217, 0.9457, 0.9616, 0.9762, 0.9883, 0.9950, 0.9935, 0.9977, 0.9912],\n",
    "    \"Validation Accuracy\": [0.9109, 0.9039, 0.9226, 0.9531, 0.9566, 0.9566, 0.9555, 0.9578, 0.9531, 0.9367],\n",
    "    \"Epoch\": list(range(1, 11))\n",
    "}\n",
    "\n",
    "df = pd.DataFrame(history_data)\n",
    "\n",
    "sns.set(style=\"whitegrid\")\n",
    "plt.figure(figsize=(10, 6))\n",
    "sns.lineplot(data=df, x=\"Epoch\", y=\"Accuracy\", label=\"Training Accuracy\", marker=\"o\")\n",
    "sns.lineplot(data=df, x=\"Epoch\", y=\"Validation Accuracy\", label=\"Validation Accuracy\", marker=\"o\")\n",
    "plt.axvline(x=7, color=\"red\", linestyle=\"--\", label=\"Overfitting starts\")\n",
    "plt.text(8, 0.7, 'Overfitting', color='red')\n",
    "plt.xlabel(\"Epoch\")\n",
    "plt.ylabel(\"Accuracy\")\n",
    "plt.legend()\n",
    "plt.show()\n"
   ]
  },
  {
   "cell_type": "code",
   "execution_count": 128,
   "metadata": {},
   "outputs": [
    {
     "name": "stdout",
     "output_type": "stream",
     "text": [
      "27/27 - 1s - loss: 0.1600 - accuracy: 0.9578 - 1s/epoch - 49ms/step\n",
      "Test Loss: 0.15997526049613953\n",
      "Test Accuracy: 0.957796037197113\n"
     ]
    }
   ],
   "source": [
    "test_loss, test_accuracy = model.evaluate(X_test, y_test, verbose=2)\n",
    "\n",
    "print(f\"Test Loss: {test_loss}\")\n",
    "print(f\"Test Accuracy: {test_accuracy}\")"
   ]
  },
  {
   "cell_type": "code",
   "execution_count": 149,
   "metadata": {},
   "outputs": [
    {
     "name": "stdout",
     "output_type": "stream",
     "text": [
      "27/27 [==============================] - 2s 65ms/step\n",
      "[[129 148]\n",
      " [  0 576]]\n"
     ]
    }
   ],
   "source": [
    "# calculate prediction\n",
    "y_pred = model.predict(X_test)\n",
    "y_pred = (y_pred > 0.001).astype(int)\n",
    "\n",
    "# calculate the confusion matrix\n",
    "cm = confusion_matrix(y_test, y_pred)\n",
    "\n",
    "# print\n",
    "print(cm)\n"
   ]
  },
  {
   "cell_type": "code",
   "execution_count": 142,
   "metadata": {},
   "outputs": [
    {
     "data": {
      "text/plain": [
       "2"
      ]
     },
     "execution_count": 142,
     "metadata": {},
     "output_type": "execute_result"
    }
   ],
   "source": [
    "cm[1][0]"
   ]
  },
  {
   "cell_type": "code",
   "execution_count": 73,
   "metadata": {},
   "outputs": [
    {
     "data": {
      "image/png": "[encoded data removed]",
      "text/plain": [
       "<Figure size 800x600 with 2 Axes>"
      ]
     },
     "metadata": {},
     "output_type": "display_data"
    }
   ],
   "source": [
    "# plotting\n",
    "plt.figure(figsize=(8, 6))\n",
    "sns.heatmap(cm, annot=True, fmt='d', cmap='Purples', xticklabels=['No Tumor', 'Tumor'], yticklabels=['No Tumor', 'Tumor'])\n",
    "plt.ylabel('Actual')\n",
    "plt.xlabel('Predicted')\n",
    "plt.title('Confusion Matrix')\n",
    "plt.show()\n"
   ]
  },
  {
   "cell_type": "code",
   "execution_count": 150,
   "metadata": {},
   "outputs": [],
   "source": [
    "model.save('model_binary_SSM.h5')"
   ]
  },
  {
   "cell_type": "code",
   "execution_count": 74,
   "metadata": {},
   "outputs": [],
   "source": [
    "# flatten the images for SVM and Linear Regression\n",
    "X_train_flat = X_train.reshape((X_train.shape[0], -1)) \n",
    "X_test_flat = X_test.reshape((X_test.shape[0], -1)) \n",
    "\n",
    "# initialise the SVM model\n",
    "svm_model = SVC(kernel='rbf', gamma='auto')\n",
    "\n",
    "# fit\n",
    "svm_model.fit(X_train_flat, y_train)\n",
    "\n",
    "# make predictions on the flattened test data\n",
    "svm_predictions = svm_model.predict(X_test_flat)\n"
   ]
  },
  {
   "cell_type": "code",
   "execution_count": 75,
   "metadata": {},
   "outputs": [
    {
     "name": "stdout",
     "output_type": "stream",
     "text": [
      "SVM Confusion Matrix:\n",
      " [[201  76]\n",
      " [ 20 556]]\n"
     ]
    }
   ],
   "source": [
    "# confusion matrix\n",
    "svm_cm = confusion_matrix(y_test, svm_predictions)\n",
    "print(\"SVM Confusion Matrix:\\n\", svm_cm)\n"
   ]
  },
  {
   "cell_type": "code",
   "execution_count": 77,
   "metadata": {},
   "outputs": [
    {
     "name": "stdout",
     "output_type": "stream",
     "text": [
      "Logistic Regression Confusion Matrix:\n",
      " [[241  36]\n",
      " [ 18 558]]\n"
     ]
    }
   ],
   "source": [
    "# initialise the Linear Regression model\n",
    "linear_model = LinearRegression()\n",
    "\n",
    "# fit the model\n",
    "linear_model.fit(X_train_flat, y_train)\n",
    "\n",
    "# predict on the test set\n",
    "linear_predictions_continuous = linear_model.predict(X_test_flat)\n",
    "linear_predictions = np.where(linear_predictions_continuous > 0.5, 1, 0)  # Apply threshold\n",
    "\n",
    "# confusion matrix\n",
    "logistic_cm = confusion_matrix(y_test, linear_predictions)\n",
    "print(\"Logistic Regression Confusion Matrix:\\n\", logistic_cm)"
   ]
  }
 ],
 "metadata": {
  "kernelspec": {
   "display_name": "EDF",
   "language": "python",
   "name": "python3"
  },
  "language_info": {
   "codemirror_mode": {
    "name": "ipython",
    "version": 3
   },
   "file_extension": ".py",
   "mimetype": "text/x-python",
   "name": "python",
   "nbconvert_exporter": "python",
   "pygments_lexer": "ipython3",
   "version": "3.10.9"
  }
 },
 "nbformat": 4,
 "nbformat_minor": 2
}
