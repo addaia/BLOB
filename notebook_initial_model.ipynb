{
 "cells": [
  {
   "cell_type": "code",
   "execution_count": 1,
   "metadata": {},
   "outputs": [],
   "source": [
    "# IMPORTS\n",
    "import os\n",
    "import cv2\n",
    "from PIL import Image\n",
    "import numpy as np\n",
    "import matplotlib.pyplot as plt\n",
    "import tensorflow as tf\n",
    "from sklearn.model_selection import train_test_split\n",
    "from tensorflow.keras import layers, models\n",
    "from sklearn.metrics import confusion_matrix\n",
    "from skimage import morphology, filters, exposure, feature\n",
    "from scipy import ndimage\n",
    "from tensorflow.keras.preprocessing.image import ImageDataGenerator"
   ]
  },
  {
   "cell_type": "code",
   "execution_count": 23,
   "metadata": {},
   "outputs": [],
   "source": [
    "# directories\n",
    "base_dirs = [\"./Training\", \"./Testing\"]\n",
    "\n",
    "# subfolders\n",
    "categories = ['glioma_tumor', 'meningioma_tumor', 'no_tumor', 'pituitary_tumor']\n",
    "\n",
    "# labels\n",
    "labels = {'glioma_tumor': 1, 'meningioma_tumor': 1, 'no_tumor': 0, 'pituitary_tumor': 1}\n",
    "\n",
    "# Lists to store the images and labels\n",
    "images = []\n",
    "image_labels = []\n",
    "\n",
    "# loop\n",
    "for base_dir in base_dirs:\n",
    "    for category in categories:\n",
    "        category_path = os.path.join(base_dir, category)\n",
    "        for img_name in os.listdir(category_path): \n",
    "            if img_name.lower().endswith(('.png', '.jpg', '.jpeg')): # filter out non-image files\n",
    "                img_path = os.path.join(category_path, img_name)\n",
    "                img = Image.open(img_path)\n",
    "                img = img.resize((128, 128))  # resize images for uniformity\n",
    "                img = np.array(img) # convert to array\n",
    "                images.append(img)\n",
    "                image_labels.append(labels[category])\n",
    "\n",
    "# convert lists to numpy arrays\n",
    "images = np.array(images)\n",
    "image_labels = np.array(image_labels)\n"
   ]
  },
  {
   "cell_type": "code",
   "execution_count": 18,
   "metadata": {},
   "outputs": [
    {
     "data": {
      "text/plain": [
       "500"
      ]
     },
     "execution_count": 18,
     "metadata": {},
     "output_type": "execute_result"
    }
   ],
   "source": [
    "sum(image_labels==0)"
   ]
  },
  {
   "cell_type": "code",
   "execution_count": 24,
   "metadata": {},
   "outputs": [],
   "source": [
    "# data augmentation\n",
    "\n",
    "non_tumorous_images = images[image_labels == 0]\n",
    "\n",
    "# define your data augmentation generator\n",
    "data_gen = ImageDataGenerator(\n",
    "    rotation_range=20,\n",
    "    width_shift_range=0.2,\n",
    "    height_shift_range=0.2,\n",
    "    shear_range=0.2,\n",
    "    zoom_range=0.2,\n",
    "    horizontal_flip=False,\n",
    "    fill_mode='nearest'\n",
    ")\n",
    "\n",
    "# the .flow() method generates batches of augmented data\n",
    "augmented_data = data_gen.flow(non_tumorous_images, batch_size=1)\n",
    "\n",
    "# generate 3 times the amount of non-tumorous images\n",
    "augmented_images = []\n",
    "augmented_labels = []\n",
    "for i in range(len(non_tumorous_images) * 2): \n",
    "    augmented_img = next(augmented_data)[0].astype('uint8')\n",
    "    augmented_images.append(augmented_img)\n",
    "    augmented_labels.append(0) \n",
    "\n",
    "# convert the lists \n",
    "augmented_images = np.array(augmented_images)\n",
    "augmented_labels = np.array(augmented_labels)\n",
    "\n",
    "# combine\n",
    "images = np.concatenate((images, augmented_images), axis=0)\n",
    "image_labels = np.concatenate((image_labels, augmented_labels), axis=0)\n"
   ]
  },
  {
   "cell_type": "code",
   "execution_count": 26,
   "metadata": {},
   "outputs": [
    {
     "data": {
      "text/plain": [
       "1500"
      ]
     },
     "execution_count": 26,
     "metadata": {},
     "output_type": "execute_result"
    }
   ],
   "source": [
    "sum(image_labels==0)"
   ]
  },
  {
   "cell_type": "code",
   "execution_count": 27,
   "metadata": {},
   "outputs": [
    {
     "name": "stdout",
     "output_type": "stream",
     "text": [
      "Model: \"sequential_1\"\n",
      "_________________________________________________________________\n",
      " Layer (type)                Output Shape              Param #   \n",
      "=================================================================\n",
      " conv2d_3 (Conv2D)           (None, 126, 126, 32)      896       \n",
      "                                                                 \n",
      " max_pooling2d_2 (MaxPooling  (None, 63, 63, 32)       0         \n",
      " 2D)                                                             \n",
      "                                                                 \n",
      " conv2d_4 (Conv2D)           (None, 61, 61, 64)        18496     \n",
      "                                                                 \n",
      " max_pooling2d_3 (MaxPooling  (None, 30, 30, 64)       0         \n",
      " 2D)                                                             \n",
      "                                                                 \n",
      " conv2d_5 (Conv2D)           (None, 28, 28, 64)        36928     \n",
      "                                                                 \n",
      " flatten_1 (Flatten)         (None, 50176)             0         \n",
      "                                                                 \n",
      " dense_2 (Dense)             (None, 64)                3211328   \n",
      "                                                                 \n",
      " dense_3 (Dense)             (None, 1)                 65        \n",
      "                                                                 \n",
      "=================================================================\n",
      "Total params: 3,267,713\n",
      "Trainable params: 3,267,713\n",
      "Non-trainable params: 0\n",
      "_________________________________________________________________\n",
      "Epoch 1/10\n",
      "107/107 [==============================] - 20s 177ms/step - loss: 0.4331 - accuracy: 0.8109 - val_loss: 0.2375 - val_accuracy: 0.9109\n",
      "Epoch 2/10\n",
      "107/107 [==============================] - 18s 172ms/step - loss: 0.2067 - accuracy: 0.9217 - val_loss: 0.2275 - val_accuracy: 0.9039\n",
      "Epoch 3/10\n",
      "107/107 [==============================] - 18s 171ms/step - loss: 0.1367 - accuracy: 0.9457 - val_loss: 0.1787 - val_accuracy: 0.9226\n",
      "Epoch 4/10\n",
      "107/107 [==============================] - 18s 171ms/step - loss: 0.1090 - accuracy: 0.9616 - val_loss: 0.1532 - val_accuracy: 0.9531\n",
      "Epoch 5/10\n",
      "107/107 [==============================] - 20s 187ms/step - loss: 0.0658 - accuracy: 0.9762 - val_loss: 0.1543 - val_accuracy: 0.9566\n",
      "Epoch 6/10\n",
      "107/107 [==============================] - 21s 201ms/step - loss: 0.0324 - accuracy: 0.9883 - val_loss: 0.1816 - val_accuracy: 0.9566\n",
      "Epoch 7/10\n",
      "107/107 [==============================] - 20s 190ms/step - loss: 0.0143 - accuracy: 0.9950 - val_loss: 0.2203 - val_accuracy: 0.9555\n",
      "Epoch 8/10\n",
      "107/107 [==============================] - 20s 191ms/step - loss: 0.0183 - accuracy: 0.9935 - val_loss: 0.2455 - val_accuracy: 0.9578\n",
      "Epoch 9/10\n",
      "107/107 [==============================] - 21s 192ms/step - loss: 0.0078 - accuracy: 0.9977 - val_loss: 0.3279 - val_accuracy: 0.9531\n",
      "Epoch 10/10\n",
      "107/107 [==============================] - 20s 182ms/step - loss: 0.0247 - accuracy: 0.9912 - val_loss: 0.2426 - val_accuracy: 0.9367\n"
     ]
    }
   ],
   "source": [
    "# model\n",
    "model = models.Sequential([\n",
    "    # convolution layers\n",
    "    layers.Conv2D(32, (3, 3), activation='relu', input_shape=(128, 128, 3)),\n",
    "    layers.MaxPooling2D((2, 2)),\n",
    "    layers.Conv2D(64, (3, 3), activation='relu'),\n",
    "    layers.MaxPooling2D((2, 2)),\n",
    "    layers.Conv2D(64, (3, 3), activation='relu'),\n",
    "    \n",
    "    # dense layers\n",
    "    layers.Flatten(),\n",
    "    layers.Dense(64, activation='relu'),\n",
    "    layers.Dense(1, activation='sigmoid') \n",
    "])\n",
    "\n",
    "# compile the model\n",
    "model.compile(optimizer='adam',\n",
    "              loss='binary_crossentropy',\n",
    "              metrics=['accuracy'])\n",
    "\n",
    "model.summary()\n",
    "\n",
    "# split to test vs train\n",
    "X_train, X_test, y_train, y_test = train_test_split(images, image_labels, test_size=0.2, random_state=42)\n",
    "\n",
    "# normalise the images\n",
    "X_train = X_train / 255.0\n",
    "X_test = X_test / 255.0\n",
    "\n",
    "# fit the model\n",
    "history = model.fit(X_train, y_train, epochs=10, validation_data=(X_test, y_test))"
   ]
  },
  {
   "cell_type": "code",
   "execution_count": 28,
   "metadata": {},
   "outputs": [
    {
     "name": "stdout",
     "output_type": "stream",
     "text": [
      "27/27 - 1s - loss: 0.2426 - accuracy: 0.9367 - 1s/epoch - 39ms/step\n",
      "Test Loss: 0.24264606833457947\n",
      "Test Accuracy: 0.9366940259933472\n"
     ]
    }
   ],
   "source": [
    "test_loss, test_accuracy = model.evaluate(X_test, y_test, verbose=2)\n",
    "\n",
    "print(f\"Test Loss: {test_loss}\")\n",
    "print(f\"Test Accuracy: {test_accuracy}\")"
   ]
  },
  {
   "cell_type": "code",
   "execution_count": 31,
   "metadata": {},
   "outputs": [
    {
     "name": "stdout",
     "output_type": "stream",
     "text": [
      "27/27 [==============================] - 1s 31ms/step\n",
      "[[113 164]\n",
      " [  0 576]]\n"
     ]
    }
   ],
   "source": [
    "# calculate prediction\n",
    "y_pred = model.predict(X_test)\n",
    "y_pred = (y_pred > 0.001).astype(int)\n",
    "\n",
    "# calculate the confusion matrix\n",
    "cm = confusion_matrix(y_test, y_pred)\n",
    "\n",
    "# print\n",
    "print(cm)\n"
   ]
  },
  {
   "cell_type": "code",
   "execution_count": 32,
   "metadata": {},
   "outputs": [],
   "source": [
    "model.save('model_binary.h5')"
   ]
  }
 ],
 "metadata": {
  "kernelspec": {
   "display_name": "EDF",
   "language": "python",
   "name": "python3"
  },
  "language_info": {
   "codemirror_mode": {
    "name": "ipython",
    "version": 3
   },
   "file_extension": ".py",
   "mimetype": "text/x-python",
   "name": "python",
   "nbconvert_exporter": "python",
   "pygments_lexer": "ipython3",
   "version": "3.10.9"
  }
 },
 "nbformat": 4,
 "nbformat_minor": 2
}
