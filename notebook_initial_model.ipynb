{
 "cells": [
  {
   "cell_type": "code",
   "execution_count": 1,
   "metadata": {},
   "outputs": [],
   "source": [
    "# IMPORTS\n",
    "import os\n",
    "import cv2\n",
    "from PIL import Image\n",
    "import numpy as np\n",
    "import matplotlib.pyplot as plt\n",
    "import tensorflow as tf\n",
    "from sklearn.model_selection import train_test_split\n",
    "from tensorflow.keras import layers, models\n",
    "from sklearn.metrics import confusion_matrix\n",
    "from skimage import morphology, filters, exposure, feature\n",
    "from scipy import ndimage"
   ]
  },
  {
   "cell_type": "code",
   "execution_count": 2,
   "metadata": {},
   "outputs": [],
   "source": [
    "# directories\n",
    "base_dirs = [\"./Training\", \"./Testing\"]\n",
    "\n",
    "# subfolders\n",
    "categories = ['glioma_tumor', 'meningioma_tumor', 'no_tumor', 'pituitary_tumor']\n",
    "\n",
    "# labels\n",
    "labels = {'glioma_tumor': 0, 'meningioma_tumor': 0, 'no_tumor': 1, 'pituitary_tumor': 0}\n",
    "\n",
    "# Lists to store the images and labels\n",
    "images = []\n",
    "image_labels = []\n",
    "\n",
    "# loop\n",
    "for base_dir in base_dirs:\n",
    "    for category in categories:\n",
    "        category_path = os.path.join(base_dir, category)\n",
    "        for img_name in os.listdir(category_path): \n",
    "            if img_name.lower().endswith(('.png', '.jpg', '.jpeg')): # filter out non-image files\n",
    "                img_path = os.path.join(category_path, img_name)\n",
    "                img = Image.open(img_path)\n",
    "                img = img.resize((128, 128))  # resize images for uniformity\n",
    "                img = np.array(img) # convert to array\n",
    "                images.append(img)\n",
    "                image_labels.append(labels[category])\n",
    "\n",
    "# convert lists to numpy arrays\n",
    "images = np.array(images)\n",
    "image_labels = np.array(image_labels)\n"
   ]
  },
  {
   "cell_type": "code",
   "execution_count": 14,
   "metadata": {},
   "outputs": [
    {
     "name": "stdout",
     "output_type": "stream",
     "text": [
      "Model: \"sequential_3\"\n",
      "_________________________________________________________________\n",
      " Layer (type)                Output Shape              Param #   \n",
      "=================================================================\n",
      " conv2d_9 (Conv2D)           (None, 126, 126, 32)      896       \n",
      "                                                                 \n",
      " max_pooling2d_6 (MaxPooling  (None, 63, 63, 32)       0         \n",
      " 2D)                                                             \n",
      "                                                                 \n",
      " conv2d_10 (Conv2D)          (None, 61, 61, 64)        18496     \n",
      "                                                                 \n",
      " max_pooling2d_7 (MaxPooling  (None, 30, 30, 64)       0         \n",
      " 2D)                                                             \n",
      "                                                                 \n",
      " conv2d_11 (Conv2D)          (None, 28, 28, 64)        36928     \n",
      "                                                                 \n",
      " flatten_3 (Flatten)         (None, 50176)             0         \n",
      "                                                                 \n",
      " dense_6 (Dense)             (None, 64)                3211328   \n",
      "                                                                 \n",
      " dense_7 (Dense)             (None, 1)                 65        \n",
      "                                                                 \n",
      "=================================================================\n",
      "Total params: 3,267,713\n",
      "Trainable params: 3,267,713\n",
      "Non-trainable params: 0\n",
      "_________________________________________________________________\n",
      "Epoch 1/10\n",
      "82/82 [==============================] - 20s 231ms/step - loss: 0.3942 - accuracy: 0.8338 - val_loss: 0.2729 - val_accuracy: 0.8668\n",
      "Epoch 2/10\n",
      "82/82 [==============================] - 18s 216ms/step - loss: 0.2365 - accuracy: 0.8905 - val_loss: 0.1949 - val_accuracy: 0.9112\n",
      "Epoch 3/10\n",
      "82/82 [==============================] - 18s 214ms/step - loss: 0.1533 - accuracy: 0.9364 - val_loss: 0.1500 - val_accuracy: 0.9433\n",
      "Epoch 4/10\n",
      "82/82 [==============================] - 17s 212ms/step - loss: 0.0960 - accuracy: 0.9625 - val_loss: 0.1478 - val_accuracy: 0.9403\n",
      "Epoch 5/10\n",
      "82/82 [==============================] - 15s 182ms/step - loss: 0.0702 - accuracy: 0.9724 - val_loss: 0.1214 - val_accuracy: 0.9571\n",
      "Epoch 6/10\n",
      "82/82 [==============================] - 14s 176ms/step - loss: 0.0418 - accuracy: 0.9851 - val_loss: 0.1647 - val_accuracy: 0.9541\n",
      "Epoch 7/10\n",
      "82/82 [==============================] - 15s 186ms/step - loss: 0.0410 - accuracy: 0.9847 - val_loss: 0.1477 - val_accuracy: 0.9648\n",
      "Epoch 8/10\n",
      "82/82 [==============================] - 15s 179ms/step - loss: 0.0193 - accuracy: 0.9950 - val_loss: 0.1277 - val_accuracy: 0.9663\n",
      "Epoch 9/10\n",
      "82/82 [==============================] - 16s 197ms/step - loss: 0.0200 - accuracy: 0.9931 - val_loss: 0.1517 - val_accuracy: 0.9663\n",
      "Epoch 10/10\n",
      "82/82 [==============================] - 17s 202ms/step - loss: 0.0093 - accuracy: 0.9981 - val_loss: 0.1509 - val_accuracy: 0.9694\n"
     ]
    }
   ],
   "source": [
    "# model\n",
    "model = models.Sequential([\n",
    "    # convolution layers\n",
    "    layers.Conv2D(32, (3, 3), activation='relu', input_shape=(128, 128, 3)),\n",
    "    layers.MaxPooling2D((2, 2)),\n",
    "    layers.Conv2D(64, (3, 3), activation='relu'),\n",
    "    layers.MaxPooling2D((2, 2)),\n",
    "    layers.Conv2D(64, (3, 3), activation='relu'),\n",
    "    \n",
    "    # dense layers\n",
    "    layers.Flatten(),\n",
    "    layers.Dense(64, activation='relu'),\n",
    "    layers.Dense(1, activation='sigmoid') \n",
    "])\n",
    "\n",
    "# compile the model\n",
    "model.compile(optimizer='adam',\n",
    "              loss='binary_crossentropy',\n",
    "              metrics=['accuracy'])\n",
    "\n",
    "model.summary()\n",
    "\n",
    "# split to test vs train\n",
    "X_train, X_test, y_train, y_test = train_test_split(images, image_labels, test_size=0.2, random_state=42)\n",
    "\n",
    "# normalise the images\n",
    "X_train = X_train / 255.0\n",
    "X_test = X_test / 255.0\n",
    "\n",
    "# fit the model\n",
    "history = model.fit(X_train, y_train, epochs=10, validation_data=(X_test, y_test))"
   ]
  },
  {
   "cell_type": "code",
   "execution_count": 15,
   "metadata": {},
   "outputs": [
    {
     "name": "stdout",
     "output_type": "stream",
     "text": [
      "21/21 - 1s - loss: 0.1509 - accuracy: 0.9694 - 1s/epoch - 57ms/step\n",
      "Test Loss: 0.15085594356060028\n",
      "Test Accuracy: 0.9693721532821655\n"
     ]
    }
   ],
   "source": [
    "test_loss, test_accuracy = model.evaluate(X_test, y_test, verbose=2)\n",
    "\n",
    "print(f\"Test Loss: {test_loss}\")\n",
    "print(f\"Test Accuracy: {test_accuracy}\")"
   ]
  },
  {
   "cell_type": "code",
   "execution_count": 31,
   "metadata": {},
   "outputs": [
    {
     "name": "stdout",
     "output_type": "stream",
     "text": [
      "21/21 [==============================] - 1s 35ms/step\n",
      "[[488  78]\n",
      " [  9  78]]\n"
     ]
    }
   ],
   "source": [
    "# calculate prediction\n",
    "y_pred = model.predict(X_test)\n",
    "y_pred = (y_pred > 0.001).astype(int)\n",
    "\n",
    "# calculate the confusion matrix\n",
    "cm = confusion_matrix(y_test, y_pred)\n",
    "\n",
    "# print\n",
    "print(cm)\n"
   ]
  }
 ],
 "metadata": {
  "kernelspec": {
   "display_name": "EDF",
   "language": "python",
   "name": "python3"
  },
  "language_info": {
   "codemirror_mode": {
    "name": "ipython",
    "version": 3
   },
   "file_extension": ".py",
   "mimetype": "text/x-python",
   "name": "python",
   "nbconvert_exporter": "python",
   "pygments_lexer": "ipython3",
   "version": "3.10.9"
  }
 },
 "nbformat": 4,
 "nbformat_minor": 2
}
