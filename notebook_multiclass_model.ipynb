{
 "cells": [
  {
   "cell_type": "code",
   "execution_count": 1,
   "metadata": {},
   "outputs": [],
   "source": [
    "import os\n",
    "from PIL import Image\n",
    "import numpy as np\n",
    "import matplotlib.pyplot as plt\n",
    "import tensorflow as tf\n",
    "from sklearn.model_selection import train_test_split\n",
    "from tensorflow.keras import layers, models"
   ]
  },
  {
   "cell_type": "code",
   "execution_count": 2,
   "metadata": {},
   "outputs": [],
   "source": [
    "# directories\n",
    "base_dirs = [\"archive (1)\\Training\", \"archive (1)\\Testing\"]\n",
    "\n",
    "# subfolders\n",
    "categories = ['glioma_tumor', 'meningioma_tumor', 'no_tumor', 'pituitary_tumor']\n",
    "\n",
    "# labels\n",
    "labels = {'glioma_tumor': 0, 'meningioma_tumor': 0, 'no_tumor': 1, 'pituitary_tumor': 0}\n",
    "\n",
    "# Lists to store the images and labels\n",
    "images = []\n",
    "image_labels = []\n",
    "\n",
    "# loop\n",
    "for base_dir in base_dirs:\n",
    "    for category in categories:\n",
    "        category_path = os.path.join(base_dir, category)\n",
    "        for img_name in os.listdir(category_path): \n",
    "            if img_name.lower().endswith(('.png', '.jpg', '.jpeg')): # filter out non-image files\n",
    "                img_path = os.path.join(category_path, img_name)\n",
    "                img = Image.open(img_path)\n",
    "                img = img.resize((128, 128))  # resize images for uniformity\n",
    "                img = np.array(img) # convert to array\n",
    "                images.append(img)\n",
    "                image_labels.append(labels[category])\n",
    "\n",
    "# convert lists to numpy arrays\n",
    "images = np.array(images)\n",
    "image_labels = np.array(image_labels)\n"
   ]
  },
  {
   "cell_type": "code",
   "execution_count": 3,
   "metadata": {},
   "outputs": [
    {
     "name": "stdout",
     "output_type": "stream",
     "text": [
      "Model: \"sequential\"\n",
      "_________________________________________________________________\n",
      " Layer (type)                Output Shape              Param #   \n",
      "=================================================================\n",
      " conv2d (Conv2D)             (None, 126, 126, 32)      896       \n",
      "                                                                 \n",
      " max_pooling2d (MaxPooling2D  (None, 63, 63, 32)       0         \n",
      " )                                                               \n",
      "                                                                 \n",
      " conv2d_1 (Conv2D)           (None, 61, 61, 64)        18496     \n",
      "                                                                 \n",
      " max_pooling2d_1 (MaxPooling  (None, 30, 30, 64)       0         \n",
      " 2D)                                                             \n",
      "                                                                 \n",
      " conv2d_2 (Conv2D)           (None, 28, 28, 64)        36928     \n",
      "                                                                 \n",
      " flatten (Flatten)           (None, 50176)             0         \n",
      "                                                                 \n",
      " dense (Dense)               (None, 64)                3211328   \n",
      "                                                                 \n",
      " dense_1 (Dense)             (None, 1)                 65        \n",
      "                                                                 \n",
      "=================================================================\n",
      "Total params: 3,267,713\n",
      "Trainable params: 3,267,713\n",
      "Non-trainable params: 0\n",
      "_________________________________________________________________\n",
      "Epoch 1/10\n",
      "82/82 [==============================] - 17s 200ms/step - loss: 0.4581 - accuracy: 0.8418 - val_loss: 0.2755 - val_accuracy: 0.8668\n",
      "Epoch 2/10\n",
      "82/82 [==============================] - 14s 165ms/step - loss: 0.2600 - accuracy: 0.8418 - val_loss: 0.2183 - val_accuracy: 0.8668\n",
      "Epoch 3/10\n",
      "82/82 [==============================] - 19s 228ms/step - loss: 0.2080 - accuracy: 0.9046 - val_loss: 0.1750 - val_accuracy: 0.9265\n",
      "Epoch 4/10\n",
      "82/82 [==============================] - 18s 214ms/step - loss: 0.1459 - accuracy: 0.9360 - val_loss: 0.1530 - val_accuracy: 0.9449\n",
      "Epoch 5/10\n",
      "82/82 [==============================] - 16s 200ms/step - loss: 0.1028 - accuracy: 0.9590 - val_loss: 0.1612 - val_accuracy: 0.9296\n",
      "Epoch 6/10\n",
      "53/82 [==================>...........] - ETA: 4s - loss: 0.0647 - accuracy: 0.9794"
     ]
    }
   ],
   "source": [
    "# model\n",
    "model = models.Sequential([\n",
    "    # convolution layers\n",
    "    layers.Conv2D(32, (3, 3), activation='relu', input_shape=(128, 128, 3)),\n",
    "    layers.MaxPooling2D((2, 2)),\n",
    "    layers.Conv2D(64, (3, 3), activation='relu'),\n",
    "    layers.MaxPooling2D((2, 2)),\n",
    "    layers.Conv2D(64, (3, 3), activation='relu'),\n",
    "    \n",
    "    # dense layers\n",
    "    layers.Flatten(),\n",
    "    layers.Dense(64, activation='relu'),\n",
    "    layers.Dense(1, activation='sigmoid') \n",
    "])\n",
    "\n",
    "# Compile the model\n",
    "model.compile(optimizer='adam',\n",
    "              loss='binary_crossentropy',\n",
    "              metrics=['accuracy'])\n",
    "\n",
    "model.summary()\n",
    "\n",
    "# split to test vs train\n",
    "X_train, X_test, y_train, y_test = train_test_split(images, image_labels, test_size=0.2, random_state=42)\n",
    "\n",
    "# Normalize the images\n",
    "X_train = X_train / 255.0\n",
    "\n",
    "X_test = X_test / 255.0\n",
    "\n",
    "# Fit the model\n",
    "history = model.fit(X_train, y_train, epochs=10, validation_data=(X_test, y_test))"
   ]
  },
  {
   "cell_type": "code",
   "execution_count": null,
   "metadata": {},
   "outputs": [],
   "source": [
    "test_loss, test_accuracy = model.evaluate(X_test, y_test, verbose=2)\n",
    "\n",
    "print(f\"Test Loss: {test_loss}\")\n",
    "print(f\"Test Accuracy: {test_accuracy}\")"
   ]
  }
 ],
 "metadata": {
  "kernelspec": {
   "display_name": "Python 3",
   "language": "python",
   "name": "python3"
  },
  "language_info": {
   "codemirror_mode": {
    "name": "ipython",
    "version": 3
   },
   "file_extension": ".py",
   "mimetype": "text/x-python",
   "name": "python",
   "nbconvert_exporter": "python",
   "pygments_lexer": "ipython3",
   "version": "3.10.13"
  }
 },
 "nbformat": 4,
 "nbformat_minor": 2
}
