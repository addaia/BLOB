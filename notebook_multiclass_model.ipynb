{
 "cells": [
  {
   "cell_type": "code",
   "execution_count": 32,
   "metadata": {},
   "outputs": [],
   "source": [
    "import os\n",
    "from PIL import Image\n",
    "import numpy as np\n",
    "import matplotlib.pyplot as plt\n",
    "import tensorflow as tf\n",
    "from sklearn.model_selection import train_test_split\n",
    "from tensorflow.keras import layers, models"
   ]
  },
  {
   "cell_type": "code",
   "execution_count": 33,
   "metadata": {},
   "outputs": [],
   "source": [
    "# directories\n",
    "base_dirs = [\"archive (1)\\Training\", \"archive (1)\\Testing\"]\n",
    "\n",
    "# subfolders\n",
    "categories = ['glioma_tumor', 'meningioma_tumor', 'no_tumor', 'pituitary_tumor']\n",
    "\n",
    "# labels\n",
    "labels = {'glioma_tumor': 0, 'meningioma_tumor': 1, 'no_tumor': 2, 'pituitary_tumor': 3}\n",
    "\n",
    "# Lists to store the images and labels\n",
    "images = []\n",
    "image_labels = []\n",
    "\n",
    "# loop\n",
    "for base_dir in base_dirs:\n",
    "    for category in categories:\n",
    "        category_path = os.path.join(base_dir, category)\n",
    "        for img_name in os.listdir(category_path): \n",
    "            if img_name.lower().endswith(('.png', '.jpg', '.jpeg')): # filter out non-image files\n",
    "                img_path = os.path.join(category_path, img_name)\n",
    "                img = Image.open(img_path)\n",
    "                img = img.resize((128, 128))  # resize images for uniformity\n",
    "                img = np.array(img) # convert to array\n",
    "                images.append(img)\n",
    "                image_labels.append(labels[category])\n",
    "\n",
    "# convert lists to numpy arrays\n",
    "images = np.array(images)\n",
    "image_labels = np.array(image_labels)\n"
   ]
  },
  {
   "cell_type": "code",
   "execution_count": 34,
   "metadata": {},
   "outputs": [
    {
     "name": "stdout",
     "output_type": "stream",
     "text": [
      "Model: \"sequential_7\"\n",
      "_________________________________________________________________\n",
      " Layer (type)                Output Shape              Param #   \n",
      "=================================================================\n",
      " conv2d_29 (Conv2D)          (None, 126, 126, 32)      896       \n",
      "                                                                 \n",
      " max_pooling2d_21 (MaxPoolin  (None, 63, 63, 32)       0         \n",
      " g2D)                                                            \n",
      "                                                                 \n",
      " conv2d_30 (Conv2D)          (None, 61, 61, 64)        18496     \n",
      "                                                                 \n",
      " max_pooling2d_22 (MaxPoolin  (None, 30, 30, 64)       0         \n",
      " g2D)                                                            \n",
      "                                                                 \n",
      " conv2d_31 (Conv2D)          (None, 28, 28, 64)        36928     \n",
      "                                                                 \n",
      " flatten_7 (Flatten)         (None, 50176)             0         \n",
      "                                                                 \n",
      " dropout_6 (Dropout)         (None, 50176)             0         \n",
      "                                                                 \n",
      " dense_15 (Dense)            (None, 64)                3211328   \n",
      "                                                                 \n",
      " batch_normalization_5 (Batc  (None, 64)               256       \n",
      " hNormalization)                                                 \n",
      "                                                                 \n",
      " dense_16 (Dense)            (None, 4)                 260       \n",
      "                                                                 \n",
      "=================================================================\n",
      "Total params: 3,268,164\n",
      "Trainable params: 3,268,036\n",
      "Non-trainable params: 128\n",
      "_________________________________________________________________\n",
      "Epoch 1/10\n",
      "82/82 [==============================] - 15s 162ms/step - loss: 0.9347 - accuracy: 0.6216 - val_loss: 0.9246 - val_accuracy: 0.6585\n",
      "Epoch 2/10\n",
      "82/82 [==============================] - 15s 180ms/step - loss: 0.6466 - accuracy: 0.7511 - val_loss: 0.6865 - val_accuracy: 0.7305\n",
      "Epoch 3/10\n",
      "82/82 [==============================] - 14s 175ms/step - loss: 0.4515 - accuracy: 0.8357 - val_loss: 0.6590 - val_accuracy: 0.7259\n",
      "Epoch 4/10\n",
      "82/82 [==============================] - 14s 177ms/step - loss: 0.3339 - accuracy: 0.8801 - val_loss: 0.4351 - val_accuracy: 0.8484\n",
      "Epoch 5/10\n",
      "82/82 [==============================] - 15s 177ms/step - loss: 0.2151 - accuracy: 0.9307 - val_loss: 0.3822 - val_accuracy: 0.8515\n",
      "Epoch 6/10\n",
      "82/82 [==============================] - 16s 190ms/step - loss: 0.1527 - accuracy: 0.9506 - val_loss: 0.3260 - val_accuracy: 0.8806\n",
      "Epoch 7/10\n",
      "82/82 [==============================] - 14s 169ms/step - loss: 0.1332 - accuracy: 0.9598 - val_loss: 0.3145 - val_accuracy: 0.8851\n",
      "Epoch 8/10\n",
      "82/82 [==============================] - 13s 163ms/step - loss: 0.1022 - accuracy: 0.9655 - val_loss: 0.3297 - val_accuracy: 0.8928\n",
      "Epoch 9/10\n",
      "82/82 [==============================] - 13s 164ms/step - loss: 0.0781 - accuracy: 0.9793 - val_loss: 0.2850 - val_accuracy: 0.9081\n",
      "Epoch 10/10\n",
      "82/82 [==============================] - 14s 166ms/step - loss: 0.0822 - accuracy: 0.9717 - val_loss: 0.3112 - val_accuracy: 0.9112\n"
     ]
    }
   ],
   "source": [
    "# model\n",
    "model = models.Sequential([\n",
    "    # convolution layers\n",
    "    layers.Conv2D(32, (3, 3), activation='relu', input_shape=(128, 128, 3)),\n",
    "    layers.MaxPooling2D((2, 2)),\n",
    "    layers.Conv2D(64, (3, 3), activation='relu'),\n",
    "    layers.MaxPooling2D((2, 2)),\n",
    "    layers.Conv2D(64, (3, 3), activation='relu'), \n",
    "    \n",
    "    # dense layers\n",
    "    layers.Flatten(),\n",
    "    layers.Dropout(0.5),\n",
    "    layers.Dense(64, activation='relu'),\n",
    "    layers.BatchNormalization(),\n",
    "    layers.Dense(4, activation='softmax') \n",
    "])\n",
    "\n",
    "# Compile the model\n",
    "model.compile(optimizer='adam',\n",
    "              loss='sparse_categorical_crossentropy',\n",
    "              metrics=['accuracy'])\n",
    "\n",
    "model.summary()\n",
    "\n",
    "# split to test vs train\n",
    "X_train, X_test, y_train, y_test = train_test_split(images, image_labels, test_size=0.2, random_state=42)\n",
    "\n",
    "# Normalize the images\n",
    "X_train = X_train / 255.0\n",
    "\n",
    "X_test = X_test / 255.0\n",
    "\n",
    "# Fit the model\n",
    "history = model.fit(X_train, y_train, epochs=10, validation_data=(X_test, y_test))"
   ]
  },
  {
   "cell_type": "code",
   "execution_count": 35,
   "metadata": {},
   "outputs": [
    {
     "name": "stdout",
     "output_type": "stream",
     "text": [
      "21/21 - 1s - loss: 0.3112 - accuracy: 0.9112 - 763ms/epoch - 36ms/step\n",
      "Test Loss: 0.311233788728714\n",
      "Test Accuracy: 0.9111791849136353\n"
     ]
    }
   ],
   "source": [
    "test_loss, test_accuracy = model.evaluate(X_test, y_test, verbose=2)\n",
    "\n",
    "print(f\"Test Loss: {test_loss}\")\n",
    "print(f\"Test Accuracy: {test_accuracy}\")"
   ]
  }
 ],
 "metadata": {
  "kernelspec": {
   "display_name": "Python 3",
   "language": "python",
   "name": "python3"
  },
  "language_info": {
   "codemirror_mode": {
    "name": "ipython",
    "version": 3
   },
   "file_extension": ".py",
   "mimetype": "text/x-python",
   "name": "python",
   "nbconvert_exporter": "python",
   "pygments_lexer": "ipython3",
   "version": "3.10.13"
  }
 },
 "nbformat": 4,
 "nbformat_minor": 2
}
